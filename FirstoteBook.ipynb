{
    "cells": [
        {
            "metadata": {},
            "cell_type": "code",
            "source": "\nimport types\nimport pandas as pd\nfrom botocore.client import Config\nimport ibm_boto3\n\ndef __iter__(self): return 0\n\n# @hidden_cell\n# The following code accesses a file in your IBM Cloud Object Storage. It includes your credentials.\n# You might want to remove those credentials before you share the notebook.\nclient_0b748f6dabd44e09bb5bb25c910bb833 = ibm_boto3.client(service_name='s3',\n    ibm_api_key_id='M7J_88mXVvHwa2EaCEVKZgVJ31yJ1p7pmIXXxGKtT33K',\n    ibm_auth_endpoint=\"https://iam.cloud.ibm.com/oidc/token\",\n    config=Config(signature_version='oauth'),\n    endpoint_url='https://s3.eu-geo.objectstorage.service.networklayer.com')\n\nbody = client_0b748f6dabd44e09bb5bb25c910bb833.get_object(Bucket='ayyazfirstproject-donotdelete-pr-ifrp5k2tdy57p3',Key='ZeeshanUsmaniChannelData.csv')['Body']\n# add missing __iter__ method, so pandas accepts body as file-like object\nif not hasattr(body, \"__iter__\"): body.__iter__ = types.MethodType( __iter__, body )\n\ndf_data_1 = pd.read_csv(body)\ndf_data_1.head()",
            "execution_count": 1,
            "outputs": []
        },
        {
            "metadata": {},
            "cell_type": "code",
            "source": "df_data_1.head()",
            "execution_count": 2,
            "outputs": [
                {
                    "output_type": "execute_result",
                    "execution_count": 2,
                    "data": {
                        "text/plain": "      Video Id                                              Title  \\\n0  UTLLrlugpI8                                   Thought Partners   \n1  FuBydZzy3Sc  Who Do I Follow on YouTube? | \u0645\u06cc\u06ba \u06cc\u0648 \u0679\u06cc\u0648\u0628 \u067e\u0631 \u06a9...   \n2  VrxehLnmWug          Three Stages of Life - \u0632\u0646\u062f\u06af\u06cc \u06a9\u06d2 \u062a\u06cc\u0646 \u0627\u062f\u0648\u0627\u0631   \n3  wcZsrszE0Qg                         Worry Break - \u0648\u0642\u0641\u06c1 \u067e\u0631\u06cc\u0634\u0627\u0646\u06cc   \n4  cQLsYV0Sp8A       Teachable Machines - Image Classifier - Urdu   \n\n            PublishTime  ViewCount  LikeCount  DislikeCount  favoriteCount  \\\n0  2021-01-21T04:00:11Z        649         95             0              0   \n1  2021-01-20T04:00:12Z       3491        281             0              0   \n2  2021-01-19T04:00:27Z       2044        185             0              0   \n3  2021-01-18T04:00:12Z       1678        187             0              0   \n4  2021-01-17T04:00:09Z       1070         84             0              0   \n\n   commentCount  \n0            16  \n1            42  \n2            32  \n3            16  \n4             8  ",
                        "text/html": "<div>\n<style scoped>\n    .dataframe tbody tr th:only-of-type {\n        vertical-align: middle;\n    }\n\n    .dataframe tbody tr th {\n        vertical-align: top;\n    }\n\n    .dataframe thead th {\n        text-align: right;\n    }\n</style>\n<table border=\"1\" class=\"dataframe\">\n  <thead>\n    <tr style=\"text-align: right;\">\n      <th></th>\n      <th>Video Id</th>\n      <th>Title</th>\n      <th>PublishTime</th>\n      <th>ViewCount</th>\n      <th>LikeCount</th>\n      <th>DislikeCount</th>\n      <th>favoriteCount</th>\n      <th>commentCount</th>\n    </tr>\n  </thead>\n  <tbody>\n    <tr>\n      <th>0</th>\n      <td>UTLLrlugpI8</td>\n      <td>Thought Partners</td>\n      <td>2021-01-21T04:00:11Z</td>\n      <td>649</td>\n      <td>95</td>\n      <td>0</td>\n      <td>0</td>\n      <td>16</td>\n    </tr>\n    <tr>\n      <th>1</th>\n      <td>FuBydZzy3Sc</td>\n      <td>Who Do I Follow on YouTube? | \u0645\u06cc\u06ba \u06cc\u0648 \u0679\u06cc\u0648\u0628 \u067e\u0631 \u06a9...</td>\n      <td>2021-01-20T04:00:12Z</td>\n      <td>3491</td>\n      <td>281</td>\n      <td>0</td>\n      <td>0</td>\n      <td>42</td>\n    </tr>\n    <tr>\n      <th>2</th>\n      <td>VrxehLnmWug</td>\n      <td>Three Stages of Life - \u0632\u0646\u062f\u06af\u06cc \u06a9\u06d2 \u062a\u06cc\u0646 \u0627\u062f\u0648\u0627\u0631</td>\n      <td>2021-01-19T04:00:27Z</td>\n      <td>2044</td>\n      <td>185</td>\n      <td>0</td>\n      <td>0</td>\n      <td>32</td>\n    </tr>\n    <tr>\n      <th>3</th>\n      <td>wcZsrszE0Qg</td>\n      <td>Worry Break - \u0648\u0642\u0641\u06c1 \u067e\u0631\u06cc\u0634\u0627\u0646\u06cc</td>\n      <td>2021-01-18T04:00:12Z</td>\n      <td>1678</td>\n      <td>187</td>\n      <td>0</td>\n      <td>0</td>\n      <td>16</td>\n    </tr>\n    <tr>\n      <th>4</th>\n      <td>cQLsYV0Sp8A</td>\n      <td>Teachable Machines - Image Classifier - Urdu</td>\n      <td>2021-01-17T04:00:09Z</td>\n      <td>1070</td>\n      <td>84</td>\n      <td>0</td>\n      <td>0</td>\n      <td>8</td>\n    </tr>\n  </tbody>\n</table>\n</div>"
                    },
                    "metadata": {}
                }
            ]
        },
        {
            "metadata": {},
            "cell_type": "code",
            "source": "",
            "execution_count": null,
            "outputs": []
        }
    ],
    "metadata": {
        "kernelspec": {
            "name": "python3",
            "display_name": "Python 3.7",
            "language": "python"
        },
        "language_info": {
            "name": "python",
            "version": "3.7.9",
            "mimetype": "text/x-python",
            "codemirror_mode": {
                "name": "ipython",
                "version": 3
            },
            "pygments_lexer": "ipython3",
            "nbconvert_exporter": "python",
            "file_extension": ".py"
        }
    },
    "nbformat": 4,
    "nbformat_minor": 1
}